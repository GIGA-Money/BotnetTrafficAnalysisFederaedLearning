{
 "cells": [
  {
   "cell_type": "markdown",
   "metadata": {},
   "source": [
    "## Analyzing botnet traffic"
   ]
  },
  {
   "cell_type": "markdown",
   "metadata": {},
   "source": [
    "https://arxiv.org/abs/1802.09089\n",
    "https://arxiv.org/pdf/1805.03409.pdf"
   ]
  },
  {
   "cell_type": "code",
   "execution_count": 1,
   "metadata": {},
   "outputs": [
    {
     "name": "stdout",
     "output_type": "stream",
     "text": [
      "Botnet_traffic.ipynb\n",
      "Danmini_Doorbell\n",
      "Fraud.ipynb\n",
      "Untitled.ipynb\n",
      "model.file\n",
      "bengin_traffic.csv\n",
      "gafgyt_attacks\n",
      "mirai_attacks\n",
      "combo.csv\n",
      "junk.csv\n",
      "scan.csv\n",
      "tcp.csv\n",
      "udp.csv\n"
     ]
    }
   ],
   "source": [
    "!ls\n",
    "!ls Danmini_Doorbell\n",
    "!ls Danmini_Doorbell/gafgyt_attacks"
   ]
  },
  {
   "cell_type": "code",
   "execution_count": 2,
   "metadata": {},
   "outputs": [],
   "source": [
    "import pandas as pd"
   ]
  },
  {
   "cell_type": "code",
   "execution_count": 3,
   "metadata": {},
   "outputs": [],
   "source": [
    "df_bening = pd.read_csv('Danmini_Doorbell/bengin_traffic.csv')\n",
    "df_bening['class'] = 0\n",
    "df_combo = pd.read_csv('Danmini_Doorbell/gafgyt_attacks/combo.csv')\n",
    "df_combo['class'] = 1\n",
    "df_junk = pd.read_csv('Danmini_Doorbell/gafgyt_attacks/junk.csv')\n",
    "df_junk['class'] = 2\n",
    "df_scan = pd.read_csv('Danmini_Doorbell/gafgyt_attacks/scan.csv')\n",
    "df_scan['class'] = 3"
   ]
  },
  {
   "cell_type": "code",
   "execution_count": 4,
   "metadata": {},
   "outputs": [
    {
     "data": {
      "text/plain": [
       "(40395, 116)"
      ]
     },
     "execution_count": 4,
     "metadata": {},
     "output_type": "execute_result"
    }
   ],
   "source": [
    "df_bening.shape"
   ]
  },
  {
   "cell_type": "code",
   "execution_count": 5,
   "metadata": {},
   "outputs": [],
   "source": [
    "df = df_bening.append(df_combo).append(df_junk).append(df_scan)"
   ]
  },
  {
   "cell_type": "code",
   "execution_count": 6,
   "metadata": {},
   "outputs": [
    {
     "data": {
      "text/plain": [
       "(159030, 116)"
      ]
     },
     "execution_count": 6,
     "metadata": {},
     "output_type": "execute_result"
    }
   ],
   "source": [
    "df.shape"
   ]
  },
  {
   "cell_type": "code",
   "execution_count": 7,
   "metadata": {},
   "outputs": [
    {
     "name": "stderr",
     "output_type": "stream",
     "text": [
      "C:\\Users\\serge\\Anaconda3\\lib\\site-packages\\h5py\\__init__.py:36: FutureWarning: Conversion of the second argument of issubdtype from `float` to `np.floating` is deprecated. In future, it will be treated as `np.float64 == np.dtype(float).type`.\n",
      "  from ._conv import register_converters as _register_converters\n",
      "Using TensorFlow backend.\n"
     ]
    }
   ],
   "source": [
    "import keras.utils\n",
    "from sklearn import preprocessing"
   ]
  },
  {
   "cell_type": "code",
   "execution_count": 8,
   "metadata": {},
   "outputs": [
    {
     "name": "stderr",
     "output_type": "stream",
     "text": [
      "C:\\Users\\serge\\Anaconda3\\lib\\site-packages\\sklearn\\preprocessing\\data.py:164: UserWarning: Numerical issues were encountered when centering the data and might not be solved. Dataset may contain too large values. You may need to prescale your features.\n",
      "  warnings.warn(\"Numerical issues were encountered \"\n"
     ]
    }
   ],
   "source": [
    "Y = keras.utils.to_categorical(df['class'])\n",
    "X = preprocessing.scale(df.drop(columns='class'))"
   ]
  },
  {
   "cell_type": "code",
   "execution_count": 47,
   "metadata": {},
   "outputs": [
    {
     "data": {
      "text/plain": [
       "array([[1., 0., 0., 0.],\n",
       "       [1., 0., 0., 0.],\n",
       "       [1., 0., 0., 0.],\n",
       "       ...,\n",
       "       [0., 0., 0., 1.],\n",
       "       [0., 0., 0., 1.],\n",
       "       [0., 0., 0., 1.]], dtype=float32)"
      ]
     },
     "execution_count": 47,
     "metadata": {},
     "output_type": "execute_result"
    }
   ],
   "source": [
    "Y"
   ]
  },
  {
   "cell_type": "code",
   "execution_count": 21,
   "metadata": {},
   "outputs": [],
   "source": [
    "%matplotlib inline\n",
    "from time import time\n",
    "import numpy as np\n",
    "import matplotlib.pyplot as plt\n",
    "\n",
    "from sklearn import metrics\n",
    "from sklearn.cluster import KMeans\n",
    "from sklearn.datasets import load_digits\n",
    "from sklearn.decomposition import PCA\n",
    "from sklearn.preprocessing import scale"
   ]
  },
  {
   "cell_type": "code",
   "execution_count": 30,
   "metadata": {},
   "outputs": [],
   "source": [
    "from keras.models import Model, Sequential\n",
    "from keras.layers import Input, Dense, Activation\n",
    "from sklearn.model_selection import train_test_split"
   ]
  },
  {
   "cell_type": "code",
   "execution_count": 54,
   "metadata": {},
   "outputs": [],
   "source": [
    "model = Sequential()\n",
    "model.add(Dense(128, input_dim=115))\n",
    "model.add(Dense(256))\n",
    "model.add(Dense(4))\n",
    "model.add(Activation('softmax'))\n",
    "\n",
    "model.compile(loss='categorical_crossentropy', optimizer='adam', metrics=['accuracy'])"
   ]
  },
  {
   "cell_type": "code",
   "execution_count": 55,
   "metadata": {},
   "outputs": [],
   "source": [
    "X_train, X_test, Y_train, Y_test = train_test_split(X, Y, test_size=0.2, random_state=42)"
   ]
  },
  {
   "cell_type": "code",
   "execution_count": null,
   "metadata": {},
   "outputs": [
    {
     "name": "stdout",
     "output_type": "stream",
     "text": [
      "Train on 127224 samples, validate on 31806 samples\n",
      "Epoch 1/50\n",
      "127224/127224 [==============================] - 17s 134us/step - loss: 0.2087 - acc: 0.9176 - val_loss: 0.1846 - val_acc: 0.9281\n",
      "Epoch 2/50\n",
      "127224/127224 [==============================] - 19s 151us/step - loss: 0.2228 - acc: 0.9249 - val_loss: 0.1790 - val_acc: 0.9311\n",
      "Epoch 3/50\n",
      "127224/127224 [==============================] - 15s 120us/step - loss: 0.1844 - acc: 0.9280 - val_loss: 0.1739 - val_acc: 0.9330\n",
      "Epoch 4/50\n",
      "127224/127224 [==============================] - 15s 119us/step - loss: 0.1805 - acc: 0.9290 - val_loss: 0.1771 - val_acc: 0.9229\n",
      "Epoch 5/50\n",
      "127224/127224 [==============================] - 15s 117us/step - loss: 0.1797 - acc: 0.9285 - val_loss: 0.1746 - val_acc: 0.9293\n",
      "Epoch 6/50\n",
      "127224/127224 [==============================] - 15s 118us/step - loss: 0.1806 - acc: 0.9282 - val_loss: 0.2173 - val_acc: 0.9269\n",
      "Epoch 7/50\n",
      "127224/127224 [==============================] - 15s 122us/step - loss: 0.1755 - acc: 0.9299 - val_loss: 0.1845 - val_acc: 0.9257\n",
      "Epoch 8/50\n",
      "127224/127224 [==============================] - 16s 126us/step - loss: 0.1831 - acc: 0.9284 - val_loss: 0.1688 - val_acc: 0.9297\n",
      "Epoch 9/50\n",
      "127224/127224 [==============================] - 16s 128us/step - loss: 0.1771 - acc: 0.9294 - val_loss: 0.1734 - val_acc: 0.9333\n",
      "Epoch 10/50\n",
      "127224/127224 [==============================] - 17s 130us/step - loss: 0.1722 - acc: 0.9290 - val_loss: 0.1719 - val_acc: 0.9317\n",
      "Epoch 11/50\n",
      "127224/127224 [==============================] - 16s 127us/step - loss: 0.1748 - acc: 0.9299 - val_loss: 0.1696 - val_acc: 0.9309\n",
      "Epoch 12/50\n",
      "127224/127224 [==============================] - 16s 126us/step - loss: 0.1699 - acc: 0.9317 - val_loss: 0.1834 - val_acc: 0.9358\n",
      "Epoch 13/50\n",
      "127224/127224 [==============================] - 16s 129us/step - loss: 0.1731 - acc: 0.9316 - val_loss: 0.1716 - val_acc: 0.9358\n",
      "Epoch 14/50\n",
      "127224/127224 [==============================] - 16s 126us/step - loss: 0.1668 - acc: 0.9329 - val_loss: 0.1701 - val_acc: 0.9308\n",
      "Epoch 15/50\n",
      "127224/127224 [==============================] - 16s 126us/step - loss: 0.1610 - acc: 0.9332 - val_loss: 0.1813 - val_acc: 0.9312\n",
      "Epoch 16/50\n",
      "127224/127224 [==============================] - 16s 125us/step - loss: 0.1663 - acc: 0.9330 - val_loss: 0.1604 - val_acc: 0.9307\n",
      "Epoch 17/50\n",
      "127224/127224 [==============================] - 16s 126us/step - loss: 0.1625 - acc: 0.9345 - val_loss: 0.1559 - val_acc: 0.9379\n",
      "Epoch 18/50\n",
      "127224/127224 [==============================] - 16s 126us/step - loss: 0.1561 - acc: 0.9348 - val_loss: 0.1448 - val_acc: 0.9357\n",
      "Epoch 19/50\n",
      "127224/127224 [==============================] - 16s 126us/step - loss: 0.1586 - acc: 0.9357 - val_loss: 0.1499 - val_acc: 0.9372\n",
      "Epoch 20/50\n",
      "127224/127224 [==============================] - 16s 126us/step - loss: 0.1528 - acc: 0.9357 - val_loss: 0.1582 - val_acc: 0.9349\n",
      "Epoch 21/50\n",
      "127224/127224 [==============================] - 16s 126us/step - loss: 0.1621 - acc: 0.9358 - val_loss: 0.1603 - val_acc: 0.9344\n",
      "Epoch 22/50\n",
      "127224/127224 [==============================] - 16s 126us/step - loss: 0.1631 - acc: 0.9356 - val_loss: 0.1565 - val_acc: 0.9330\n",
      "Epoch 23/50\n",
      "127224/127224 [==============================] - 16s 128us/step - loss: 0.1602 - acc: 0.9364 - val_loss: 0.1701 - val_acc: 0.9362\n",
      "Epoch 24/50\n",
      "127224/127224 [==============================] - 17s 133us/step - loss: 0.1637 - acc: 0.9359 - val_loss: 0.1500 - val_acc: 0.9370\n",
      "Epoch 25/50\n",
      "127224/127224 [==============================] - 16s 127us/step - loss: 0.1538 - acc: 0.9366 - val_loss: 0.1561 - val_acc: 0.9320\n",
      "Epoch 26/50\n",
      "127224/127224 [==============================] - 17s 134us/step - loss: 0.1493 - acc: 0.9382 - val_loss: 0.1426 - val_acc: 0.9362\n",
      "Epoch 27/50\n",
      "127224/127224 [==============================] - 17s 132us/step - loss: 0.1475 - acc: 0.9371 - val_loss: 0.1948 - val_acc: 0.9265\n",
      "Epoch 28/50\n",
      "127224/127224 [==============================] - 15s 121us/step - loss: 0.1440 - acc: 0.9393 - val_loss: 0.1501 - val_acc: 0.9359\n",
      "Epoch 29/50\n",
      "127224/127224 [==============================] - 15s 120us/step - loss: 0.1494 - acc: 0.9375 - val_loss: 0.1481 - val_acc: 0.9449\n",
      "Epoch 30/50\n",
      "127224/127224 [==============================] - 16s 123us/step - loss: 0.1548 - acc: 0.9380 - val_loss: 0.1490 - val_acc: 0.9449\n",
      "Epoch 31/50\n",
      "127224/127224 [==============================] - 16s 123us/step - loss: 0.1524 - acc: 0.9392 - val_loss: 0.1603 - val_acc: 0.9372\n",
      "Epoch 32/50\n",
      "127224/127224 [==============================] - 14s 114us/step - loss: 0.1492 - acc: 0.9400 - val_loss: 0.1471 - val_acc: 0.9393\n",
      "Epoch 33/50\n",
      "127224/127224 [==============================] - 15s 115us/step - loss: 0.1438 - acc: 0.9406 - val_loss: 0.1379 - val_acc: 0.9513\n",
      "Epoch 34/50\n",
      "127224/127224 [==============================] - 16s 125us/step - loss: 0.1461 - acc: 0.9408 - val_loss: 0.1426 - val_acc: 0.9438\n",
      "Epoch 35/50\n",
      "127224/127224 [==============================] - 16s 126us/step - loss: 0.1449 - acc: 0.9400 - val_loss: 0.1406 - val_acc: 0.9380\n",
      "Epoch 36/50\n",
      "127224/127224 [==============================] - 16s 127us/step - loss: 0.1436 - acc: 0.9397 - val_loss: 0.1419 - val_acc: 0.9452\n",
      "Epoch 37/50\n",
      "127224/127224 [==============================] - 16s 127us/step - loss: 0.1435 - acc: 0.9403 - val_loss: 0.1705 - val_acc: 0.9364\n",
      "Epoch 38/50\n",
      "127224/127224 [==============================] - 15s 117us/step - loss: 0.1421 - acc: 0.9404 - val_loss: 0.1683 - val_acc: 0.9343\n",
      "Epoch 39/50\n",
      "127224/127224 [==============================] - 15s 114us/step - loss: 0.1456 - acc: 0.9412 - val_loss: 0.1836 - val_acc: 0.9341\n",
      "Epoch 40/50\n",
      "127224/127224 [==============================] - 15s 115us/step - loss: 0.1866 - acc: 0.9398 - val_loss: 0.1926 - val_acc: 0.9316\n",
      "Epoch 41/50\n",
      "127224/127224 [==============================] - 15s 115us/step - loss: 0.1703 - acc: 0.9385 - val_loss: 0.1371 - val_acc: 0.9513\n",
      "Epoch 42/50\n",
      "127224/127224 [==============================] - 14s 114us/step - loss: 0.1387 - acc: 0.9415 - val_loss: 0.1397 - val_acc: 0.9397\n",
      "Epoch 43/50\n",
      "127224/127224 [==============================] - 15s 114us/step - loss: 0.1372 - acc: 0.9421 - val_loss: 0.1520 - val_acc: 0.9379\n",
      "Epoch 44/50\n",
      "127224/127224 [==============================] - 14s 114us/step - loss: 0.1412 - acc: 0.9410 - val_loss: 0.1465 - val_acc: 0.9379\n",
      "Epoch 45/50\n",
      "127224/127224 [==============================] - 15s 114us/step - loss: 0.1439 - acc: 0.9418 - val_loss: 0.1653 - val_acc: 0.9321\n",
      "Epoch 46/50\n",
      "127224/127224 [==============================] - 15s 114us/step - loss: 0.1421 - acc: 0.9413 - val_loss: 0.1351 - val_acc: 0.9479\n",
      "Epoch 47/50\n",
      "127224/127224 [==============================] - 16s 124us/step - loss: 0.1374 - acc: 0.9431 - val_loss: 0.1306 - val_acc: 0.9478\n",
      "Epoch 48/50\n",
      "127224/127224 [==============================] - 19s 147us/step - loss: 0.1495 - acc: 0.9412 - val_loss: 0.1513 - val_acc: 0.9394\n",
      "Epoch 49/50\n",
      "127224/127224 [==============================] - 17s 131us/step - loss: 0.1473 - acc: 0.9419 - val_loss: 0.1539 - val_acc: 0.9383\n",
      "Epoch 50/50\n",
      "113664/127224 [=========================>....] - ETA: 1s - loss: 0.1473 - acc: 0.9422"
     ]
    }
   ],
   "source": [
    "model.fit(X_train, Y_train, epochs=50, validation_data=(X_test, Y_test))"
   ]
  },
  {
   "cell_type": "code",
   "execution_count": null,
   "metadata": {},
   "outputs": [],
   "source": [
    "127224/127224 [==============================] - 17s 131us/step - loss: 0.1473 - acc: 0.9419 - val_loss: 0.1539 - val_acc: 0.9383\n"
   ]
  }
 ],
 "metadata": {
  "kernelspec": {
   "display_name": "Python 3",
   "language": "python",
   "name": "python3"
  },
  "language_info": {
   "codemirror_mode": {
    "name": "ipython",
    "version": 3
   },
   "file_extension": ".py",
   "mimetype": "text/x-python",
   "name": "python",
   "nbconvert_exporter": "python",
   "pygments_lexer": "ipython3",
   "version": "3.7.0"
  }
 },
 "nbformat": 4,
 "nbformat_minor": 2
}
